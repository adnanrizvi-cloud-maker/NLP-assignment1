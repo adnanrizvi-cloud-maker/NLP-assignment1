{
  "nbformat": 4,
  "nbformat_minor": 0,
  "metadata": {
    "colab": {
      "name": "19k45a0211",
      "provenance": []
    },
    "kernelspec": {
      "name": "python3",
      "display_name": "Python 3"
    },
    "language_info": {
      "name": "python"
    }
  },
  "cells": [
    {
      "cell_type": "code",
      "metadata": {
        "colab": {
          "base_uri": "https://localhost:8080/"
        },
        "id": "f54muVw_QAzq",
        "outputId": "f0538750-ffd9-46d9-dd87-e6e7c8a90755"
      },
      "source": [
        "import nltk\n",
        "nltk.download('punkt')\n",
        "from nltk.tokenize import sent_tokenize\n",
        "text = '''Are  you  fascinated  by  the  amount  of  text  data  available  on  the  internet?  Are  you \n",
        "looking  for  ways  to  work  with  this  text  data  but  aren’t  sure  where  to  begin? \n",
        "Machines, after all, recognize numbers, not the letters of our language. And that can \n",
        "be a tricky landscape to navigate in machine learning.'''\n",
        "print(sent_tokenize(text))"
      ],
      "execution_count": 1,
      "outputs": [
        {
          "output_type": "stream",
          "name": "stdout",
          "text": [
            "[nltk_data] Downloading package punkt to /root/nltk_data...\n",
            "[nltk_data]   Unzipping tokenizers/punkt.zip.\n",
            "['Are  you  fascinated  by  the  amount  of  text  data  available  on  the  internet?', 'Are  you \\nlooking  for  ways  to  work  with  this  text  data  but  aren’t  sure  where  to  begin?', 'Machines, after all, recognize numbers, not the letters of our language.', 'And that can \\nbe a tricky landscape to navigate in machine learning.']\n"
          ]
        }
      ]
    },
    {
      "cell_type": "code",
      "metadata": {
        "colab": {
          "base_uri": "https://localhost:8080/"
        },
        "id": "G_UykC9PQH1I",
        "outputId": "e7539c3c-c329-46f0-b8ce-daa4e1b26a52"
      },
      "source": [
        "from nltk.tokenize import word_tokenize\n",
        "text =  '''Are  you  fascinated  by  the  amount  of  text  data  available  on  the  internet?  Are  you \n",
        "looking  for  ways  to  work  with  this  text  data  but  aren’t  sure  where  to  begin? \n",
        "Machines, after all, recognize numbers, not the letters of our language. And that can \n",
        "be a tricky landscape to navigate in machine learning.'''\n",
        "print(word_tokenize(text))"
      ],
      "execution_count": 2,
      "outputs": [
        {
          "output_type": "stream",
          "name": "stdout",
          "text": [
            "['Are', 'you', 'fascinated', 'by', 'the', 'amount', 'of', 'text', 'data', 'available', 'on', 'the', 'internet', '?', 'Are', 'you', 'looking', 'for', 'ways', 'to', 'work', 'with', 'this', 'text', 'data', 'but', 'aren', '’', 't', 'sure', 'where', 'to', 'begin', '?', 'Machines', ',', 'after', 'all', ',', 'recognize', 'numbers', ',', 'not', 'the', 'letters', 'of', 'our', 'language', '.', 'And', 'that', 'can', 'be', 'a', 'tricky', 'landscape', 'to', 'navigate', 'in', 'machine', 'learning', '.']\n"
          ]
        }
      ]
    },
    {
      "cell_type": "code",
      "metadata": {
        "colab": {
          "base_uri": "https://localhost:8080/"
        },
        "id": "cMsJl3S9QOp6",
        "outputId": "a08cf6f2-049f-4796-d4c6-a44d48942844"
      },
      "source": [
        "import nltk\n",
        "from nltk.stem.porter import PorterStemmer\n",
        "porter_stemmer  = PorterStemmer()\n",
        "words = ['cats','trouble','troubling','troubled','having','Corriendo','at','was']\n",
        "print(\"stemming for :\")\n",
        "for w in words:\n",
        "    print(\"   {} is {}\".format(w,porter_stemmer.stem(w)))"
      ],
      "execution_count": 3,
      "outputs": [
        {
          "output_type": "stream",
          "name": "stdout",
          "text": [
            "stemming for :\n",
            "   cats is cat\n",
            "   trouble is troubl\n",
            "   troubling is troubl\n",
            "   troubled is troubl\n",
            "   having is have\n",
            "   Corriendo is corriendo\n",
            "   at is at\n",
            "   was is wa\n"
          ]
        }
      ]
    },
    {
      "cell_type": "code",
      "metadata": {
        "colab": {
          "base_uri": "https://localhost:8080/"
        },
        "id": "ljMPCuykQSRl",
        "outputId": "df191e1c-c7ec-4248-8d43-78cd4c012f12"
      },
      "source": [
        "import nltk\n",
        "nltk.download('wordnet')\n",
        "import nltk\n",
        "from nltk.stem import WordNetLemmatizer\n",
        "wordnet_lemmatizer = WordNetLemmatizer()\n",
        "words = ['cats','trouble','troubling','troubled','having','Corriendo','at','was']\n",
        "print(\"lemma for :\")\n",
        "for w in words:\n",
        "    print(\"   {} is {}\".format(w,w, wordnet_lemmatizer.lemmatize(w)))"
      ],
      "execution_count": 4,
      "outputs": [
        {
          "output_type": "stream",
          "name": "stdout",
          "text": [
            "[nltk_data] Downloading package wordnet to /root/nltk_data...\n",
            "[nltk_data]   Unzipping corpora/wordnet.zip.\n",
            "lemma for :\n",
            "   cats is cats\n",
            "   trouble is trouble\n",
            "   troubling is troubling\n",
            "   troubled is troubled\n",
            "   having is having\n",
            "   Corriendo is Corriendo\n",
            "   at is at\n",
            "   was is was\n"
          ]
        }
      ]
    },
    {
      "cell_type": "code",
      "metadata": {
        "colab": {
          "base_uri": "https://localhost:8080/"
        },
        "id": "BXfbiXqGQZTT",
        "outputId": "291dd8db-f0e9-42b4-bc6b-71d3a826ce42"
      },
      "source": [
        "import nltk\n",
        "nltk.download('stopwords')\n",
        "from nltk.corpus import stopwords\n",
        "from nltk.tokenize import word_tokenize\n",
        " \n",
        "para = '''he NLTK library  is  one  of  the  oldest  and  most  commonly  used  Python  libraries  for \n",
        "Natural Language Processing. NLTK supports stop word removal, and you can find the list \n",
        "of stop words in the  corpus  module. To remove stop words from a sentence, you can divide \n",
        "your text into words and then remove the word if it exits in the list of stop words provided \n",
        "by NLTK.'''\n",
        " \n",
        "stopwords = set(stopwords.words('english'))\n",
        " \n",
        "words = word_tokenize(para)\n",
        " \n",
        "res = [w for w in words if not w.lower() in stopwords]\n",
        " \n",
        "res = []\n",
        " \n",
        "for w in words:\n",
        "    if w not in stopwords:\n",
        "        res.append(w)\n",
        " \n",
        "#print(words)\n",
        "print(res)"
      ],
      "execution_count": 5,
      "outputs": [
        {
          "output_type": "stream",
          "name": "stdout",
          "text": [
            "[nltk_data] Downloading package stopwords to /root/nltk_data...\n",
            "[nltk_data]   Unzipping corpora/stopwords.zip.\n",
            "['NLTK', 'library', 'one', 'oldest', 'commonly', 'used', 'Python', 'libraries', 'Natural', 'Language', 'Processing', '.', 'NLTK', 'supports', 'stop', 'word', 'removal', ',', 'find', 'list', 'stop', 'words', 'corpus', 'module', '.', 'To', 'remove', 'stop', 'words', 'sentence', ',', 'divide', 'text', 'words', 'remove', 'word', 'exits', 'list', 'stop', 'words', 'provided', 'NLTK', '.']\n"
          ]
        }
      ]
    }
  ]
}